{
 "cells": [
  {
   "cell_type": "code",
   "execution_count": 1,
   "metadata": {},
   "outputs": [],
   "source": [
    "import numpy as np\n",
    "import matplotlib.pyplot as plt\n",
    "%matplotlib inline"
   ]
  },
  {
   "cell_type": "code",
   "execution_count": 2,
   "metadata": {},
   "outputs": [
    {
     "name": "stdout",
     "output_type": "stream",
     "text": [
      "(500, 2)\n",
      "(500, 2)\n"
     ]
    }
   ],
   "source": [
    "mean_01 = np.array([0.1, 0.2])\n",
    "mean_02 = np.array([3.1, 3.2])\n",
    "\n",
    "cov_01 = np.array([[1.0, 0.2],[0.2, 2.1]])\n",
    "cov_02 = np.array([[2.0, 1.3],[1.3, 1.1]])\n",
    "\n",
    "dist_01 = np.random.multivariate_normal(mean_01, cov_01, 500)\n",
    "dist_02 = np.random.multivariate_normal(mean_02, cov_02, 500)\n",
    "\n",
    "print dist_01.shape\n",
    "print dist_02.shape"
   ]
  },
  {
   "cell_type": "code",
   "execution_count": 3,
   "metadata": {},
   "outputs": [
    {
     "data": {
      "image/png": "[encoded data removed]",
      "text/plain": [
       "<Figure size 432x288 with 1 Axes>"
      ]
     },
     "metadata": {},
     "output_type": "display_data"
    }
   ],
   "source": [
    "plt.scatter(dist_01[:, 0], dist_01[:, 1], c='r')\n",
    "plt.scatter(dist_02[:, 0], dist_02[:, 1], c='b')\n",
    "\n",
    "plt.show()"
   ]
  },
  {
   "cell_type": "code",
   "execution_count": 4,
   "metadata": {},
   "outputs": [
    {
     "name": "stdout",
     "output_type": "stream",
     "text": [
      "(1000, 3)\n"
     ]
    }
   ],
   "source": [
    "## Total Dataset\n",
    "rows = dist_01.shape[0] + dist_02.shape[0]\n",
    "cols = dist_01.shape[1] + 1\n",
    "\n",
    "data = np.zeros((rows, cols))\n",
    "print data.shape\n",
    "\n",
    "data[:dist_01.shape[0], :dist_01.shape[1]] = dist_01\n",
    "data[dist_01.shape[0]: rows, :dist_01.shape[1]] = dist_02\n",
    "data[dist_01.shape[0]: rows, -1] = 1.0"
   ]
  },
  {
   "cell_type": "code",
   "execution_count": 5,
   "metadata": {},
   "outputs": [
    {
     "data": {
      "text/plain": [
       "array([[ 2.97456413,  2.70188377,  1.        ],\n",
       "       [ 1.21219597,  0.96997583,  0.        ],\n",
       "       [ 2.01993304,  2.30505754,  1.        ],\n",
       "       [ 3.08925505,  2.83017607,  1.        ],\n",
       "       [ 5.94660484,  4.46319725,  1.        ],\n",
       "       [-0.61896536,  0.49110151,  0.        ],\n",
       "       [ 3.79773938,  3.53798219,  1.        ],\n",
       "       [ 2.82903814,  2.48416331,  1.        ],\n",
       "       [ 2.21950537, -2.35883388,  0.        ],\n",
       "       [ 2.01176452,  2.68709097,  1.        ]])"
      ]
     },
     "execution_count": 5,
     "metadata": {},
     "output_type": "execute_result"
    }
   ],
   "source": [
    "np.random.shuffle(data)\n",
    "\n",
    "data[:10]"
   ]
  },
  {
   "cell_type": "code",
   "execution_count": 6,
   "metadata": {},
   "outputs": [
    {
     "name": "stdout",
     "output_type": "stream",
     "text": [
      "(750, 2)\n",
      "(250, 2)\n",
      "(750,)\n",
      "(250,)\n"
     ]
    }
   ],
   "source": [
    "## Data Splitting\n",
    "split = int(0.75*data.shape[0])\n",
    "X_train = data[:split, :-1]\n",
    "Y_train = data[:split, -1]\n",
    "\n",
    "X_test = data[split:, :-1]\n",
    "Y_test = data[split:, -1]\n",
    "\n",
    "print X_train.shape\n",
    "print X_test.shape\n",
    "print Y_train.shape\n",
    "print Y_test.shape"
   ]
  },
  {
   "cell_type": "code",
   "execution_count": 7,
   "metadata": {},
   "outputs": [],
   "source": [
    "'''Functions'''\n",
    "def sigmoid(z):\n",
    "    sig = 1.0/(1 + np.exp(-1*z))\n",
    "    return sig\n",
    "\n",
    "def hypothesis(x_sample, w, b):\n",
    "    h = (x_sample*w).sum() + b\n",
    "    return sigmoid(h)\n",
    "    \n",
    "def get_error(x, w, y_true, b):\n",
    "    err = 0.0\n",
    "    m = x.shape[0]\n",
    "    \n",
    "    for ix in range(m):\n",
    "        if y_true[ix] == 0:\n",
    "            #print hypothesis(x[ix], w, b)\n",
    "            add_term = -1*(np.log(1 - hypothesis(x[ix], w, b)))\n",
    "            err += add_term\n",
    "        else:\n",
    "            add_term = -1*(np.log(hypothesis(x[ix], w, b)))\n",
    "            err += add_term\n",
    "    \n",
    "    err = err/m\n",
    "    return err"
   ]
  },
  {
   "cell_type": "code",
   "execution_count": 8,
   "metadata": {},
   "outputs": [],
   "source": [
    "def get_gradients(x, w, y_true, b):\n",
    "    \n",
    "    grad_w = np.zeros(w.shape[0])\n",
    "    grad_b = 0\n",
    "    \n",
    "    m = x.shape[0]\n",
    "    for ix in range(m):\n",
    "        grad_w += (hypothesis(x[ix], w, b) - y_true[ix])*(x[ix])\n",
    "        grad_b += (hypothesis(x[ix], w, b) - y_true[ix])*(1)\n",
    "    \n",
    "    return [grad_w, grad_b]"
   ]
  },
  {
   "cell_type": "code",
   "execution_count": 9,
   "metadata": {},
   "outputs": [],
   "source": [
    "def optimizer(x, w, y_true, b, learning_rate=0.001):\n",
    "    error = get_error(x, w, y_true, b)\n",
    "    \n",
    "    [grad_w, grad_b] = get_gradients(x, w, y_true, b)\n",
    "    \n",
    "    b = b - learning_rate*grad_b\n",
    "    w = w - learning_rate*grad_w\n",
    "    \n",
    "    return error, w, b"
   ]
  },
  {
   "cell_type": "code",
   "execution_count": 10,
   "metadata": {},
   "outputs": [],
   "source": [
    "def Logistic_Regression(X_train, Y_train, nb_epochs=100, \n",
    "                        learning_rate=0.0001):\n",
    "    \n",
    "    loss = []\n",
    "    \n",
    "    ## Parameter Initialisation\n",
    "    W = np.array([0.3, 0.2])\n",
    "    b = 3.6\n",
    "    \n",
    "    for ix in range(nb_epochs):\n",
    "        error, W, b = optimizer(X_train, W, Y_train, b, learning_rate)\n",
    "        loss.append(error)\n",
    "        \n",
    "    W_final = W\n",
    "    b_final = b\n",
    "    \n",
    "    return loss, W_final, b_final"
   ]
  },
  {
   "cell_type": "code",
   "execution_count": 13,
   "metadata": {},
   "outputs": [],
   "source": [
    "loss_logs, W_final, b_final = Logistic_Regression(X_train, Y_train, learning_rate = 0.0001)"
   ]
  },
  {
   "cell_type": "code",
   "execution_count": 14,
   "metadata": {},
   "outputs": [
    {
     "data": {
      "image/png": "[encoded data removed]",
      "text/plain": [
       "<Figure size 432x288 with 1 Axes>"
      ]
     },
     "metadata": {},
     "output_type": "display_data"
    }
   ],
   "source": [
    "plt.plot(loss_logs)\n",
    "plt.show()"
   ]
  },
  {
   "cell_type": "code",
   "execution_count": 15,
   "metadata": {},
   "outputs": [
    {
     "name": "stdout",
     "output_type": "stream",
     "text": [
      "[0.39950625 0.14456639]\n",
      "0.6284743832535438\n"
     ]
    }
   ],
   "source": [
    "print W_final\n",
    "print b_final\n",
    "\n",
    "\n"
   ]
  },
  {
   "cell_type": "code",
   "execution_count": 16,
   "metadata": {},
   "outputs": [],
   "source": [
    "W = np.array([0.3, 0.2])\n",
    "b = 3.6"
   ]
  },
  {
   "cell_type": "code",
   "execution_count": 17,
   "metadata": {},
   "outputs": [],
   "source": [
    "from sklearn.linear_model import LogisticRegression"
   ]
  },
  {
   "cell_type": "code",
   "execution_count": 16,
   "metadata": {},
   "outputs": [],
   "source": [
    "LogisticRegression?"
   ]
  },
  {
   "cell_type": "code",
   "execution_count": 17,
   "metadata": {},
   "outputs": [
    {
     "data": {
      "text/plain": [
       "LogisticRegression(C=1.0, class_weight=None, dual=False, fit_intercept=True,\n",
       "          intercept_scaling=1, max_iter=100, multi_class='ovr', n_jobs=1,\n",
       "          penalty='l2', random_state=None, solver='liblinear', tol=0.0001,\n",
       "          verbose=0, warm_start=False)"
      ]
     },
     "execution_count": 17,
     "metadata": {},
     "output_type": "execute_result"
    }
   ],
   "source": [
    "lr = LogisticRegression()\n",
    "\n",
    "lr.fit(X_train, Y_train)"
   ]
  },
  {
   "cell_type": "code",
   "execution_count": 16,
   "metadata": {},
   "outputs": [
    {
     "data": {
      "text/plain": [
       "0.91200000000000003"
      ]
     },
     "execution_count": 16,
     "metadata": {},
     "output_type": "execute_result"
    }
   ],
   "source": [
    "lr.score(X_test, Y_test)"
   ]
  },
  {
   "cell_type": "code",
   "execution_count": null,
   "metadata": {
    "collapsed": true
   },
   "outputs": [],
   "source": []
  }
 ],
 "metadata": {
  "kernelspec": {
   "display_name": "Python 2",
   "language": "python",
   "name": "python2"
  },
  "language_info": {
   "codemirror_mode": {
    "name": "ipython",
    "version": 2
   },
   "file_extension": ".py",
   "mimetype": "text/x-python",
   "name": "python",
   "nbconvert_exporter": "python",
   "pygments_lexer": "ipython2",
   "version": "2.7.15rc1"
  }
 },
 "nbformat": 4,
 "nbformat_minor": 2
}
