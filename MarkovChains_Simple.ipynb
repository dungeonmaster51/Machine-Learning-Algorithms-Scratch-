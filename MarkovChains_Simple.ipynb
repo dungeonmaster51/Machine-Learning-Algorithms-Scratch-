{
 "cells": [
  {
   "cell_type": "code",
   "execution_count": 1,
   "metadata": {},
   "outputs": [],
   "source": [
    "import numpy as np\n",
    "import re\n",
    "from matplotlib import pyplot as plt\n",
    "%matplotlib inline\n",
    "import random"
   ]
  },
  {
   "cell_type": "code",
   "execution_count": 2,
   "metadata": {},
   "outputs": [],
   "source": [
    "f = open('input.txt', 'r')\n",
    "ds = f.read()\n",
    "f.close()"
   ]
  },
  {
   "cell_type": "code",
   "execution_count": 8,
   "metadata": {},
   "outputs": [
    {
     "name": "stdout",
     "output_type": "stream",
     "text": [
      "\n",
      "\n",
      "\n",
      "\n",
      "THE COMPLETE SHERLOCK HOLMES\n",
      "\n",
      "Arthur Conan Doyle\n",
      "\n",
      "\n",
      "\n",
      "Table of contents\n",
      "\n",
      "A Study In Scarlet\n",
      "\n",
      "The Sign of the Four\n",
      "\n",
      "The Adventures of Sherlock Holmes\n",
      "A Scandal in Bohemia\n",
      "The Red-Headed League\n",
      "A Case of Identity\n",
      "The Boscombe Valley Mystery\n",
      "The Five Orange Pips\n",
      "The Man with the Twisted Lip\n",
      "The Adventure of the Blue Carbuncle\n",
      "The Adventure of the Speckled Band\n",
      "The Adventure of the Engineer's Thumb\n",
      "The Adventure of the Noble Bachelor\n",
      "The Adventure of the Beryl Coronet\n",
      "The Adventure of the Copper Beeches\n",
      "\n",
      "The Memoirs of Sherlock Holmes\n",
      "Silver Blaze\n",
      "The Yellow Face\n",
      "The Stock-Broker's Clerk\n",
      "The \"Gloria\n"
     ]
    }
   ],
   "source": [
    "for ix in ds[:1000].split('\\n'):\n",
    "    ix = ix.strip()\n",
    "    print ix\n"
   ]
  },
  {
   "cell_type": "code",
   "execution_count": 10,
   "metadata": {},
   "outputs": [],
   "source": [
    "# print ds.index('A STUDY IN SCARLET')\n",
    "start = 3433\n",
    "length = 50000\n",
    "\n",
    "data = ' '.join([ix.strip() for ix in ds[start:start+length].split('\\n')]).lower()\n"
   ]
  },
  {
   "cell_type": "code",
   "execution_count": 11,
   "metadata": {},
   "outputs": [
    {
     "name": "stdout",
     "output_type": "stream",
     "text": [
      "46100\n",
      "46\n"
     ]
    }
   ],
   "source": [
    "# print data\n",
    "print len(data)\n",
    "\n",
    "print len(set(data))"
   ]
  },
  {
   "cell_type": "code",
   "execution_count": 89,
   "metadata": {},
   "outputs": [],
   "source": [
    "T = {}\n",
    "\n",
    "# define order of the Markov chain\n",
    "order = 11\n",
    "\n",
    "for ix in range(len(data)-order):\n",
    "    # get the current context\n",
    "    ctx = data[ix:ix+order]\n",
    "    \n",
    "    # get the future val\n",
    "    future_val = data[ix+order]\n",
    "    \n",
    "    # check if the context exists\n",
    "    if T.get(ctx) is None:\n",
    "        T[ctx] = {}\n",
    "        T[ctx][future_val] = 1\n",
    "    else:\n",
    "        # check if the future_val key exists\n",
    "        if T[ctx].get(future_val) is None:\n",
    "            T[ctx][future_val] = 1\n",
    "        else:\n",
    "            T[ctx][future_val] += 1"
   ]
  },
  {
   "cell_type": "code",
   "execution_count": 90,
   "metadata": {},
   "outputs": [
    {
     "data": {
      "text/plain": [
       "43599"
      ]
     },
     "execution_count": 90,
     "metadata": {},
     "output_type": "execute_result"
    }
   ],
   "source": [
    "len(T.keys())"
   ]
  },
  {
   "cell_type": "code",
   "execution_count": 91,
   "metadata": {
    "scrolled": false
   },
   "outputs": [],
   "source": [
    "for kx in T.keys():\n",
    "    s = float(sum(T[kx].values()))\n",
    "    \n",
    "    for k in T[kx].keys():\n",
    "        T[kx][k] = T[kx][k]/s"
   ]
  },
  {
   "cell_type": "code",
   "execution_count": 92,
   "metadata": {},
   "outputs": [
    {
     "data": {
      "image/png": "[encoded data removed]",
      "text/plain": [
       "<Figure size 432x288 with 1 Axes>"
      ]
     },
     "metadata": {},
     "output_type": "display_data"
    }
   ],
   "source": [
    "def temp_sample(probs, temp=1.0):\n",
    "    probs = np.asarray(probs)\n",
    "    exp_probs = np.exp(np.log(probs) / temp)\n",
    "    \n",
    "    return list(exp_probs / exp_probs.sum())\n",
    "\n",
    "p = [0.1, 0.1, 0.4, 0.2, 0.15, 0.05]\n",
    "q = temp_sample(p, 2.50)\n",
    "\n",
    "plt.plot(p, 'go-')\n",
    "plt.plot(q, 'r*-')\n",
    "\n",
    "plt.show()"
   ]
  },
  {
   "cell_type": "code",
   "execution_count": 93,
   "metadata": {},
   "outputs": [],
   "source": [
    "def generate_next(ctx, diversity=1.0):\n",
    "    r = np.random.random()\n",
    "    \n",
    "    possible = T.get(ctx)\n",
    "    \n",
    "    if possible is None:\n",
    "        return ' '\n",
    "    diverse_probs = temp_sample(possible.values(), temp=diversity)\n",
    "    return np.random.choice(possible.keys(), p=diverse_probs)"
   ]
  },
  {
   "cell_type": "code",
   "execution_count": 95,
   "metadata": {},
   "outputs": [
    {
     "name": "stdout",
     "output_type": "stream",
     "text": [
      " \n"
     ]
    }
   ],
   "source": [
    "print generate_next(\"t\", diversity=.5)"
   ]
  },
  {
   "cell_type": "code",
   "execution_count": 96,
   "metadata": {
    "scrolled": false
   },
   "outputs": [
    {
     "name": "stdout",
     "output_type": "stream",
     "text": [
      "afghanistan, i perceive.\"  \"how on earth did you know that?\" i asked in astonishment.  a short passage, bare planked and dusty, led to the kitchen and offices. two doors opened out of it to the left and to the right. one of these he has a large square room, looking all the larger from the absence of all furniture. a vulgar flaring paper adorned the walls, but it was blotched in places with mildew, and here and there a \"to let\" card had developed like a cataract upon the bleared panes. a small garden sprinkled over with a scattered about, which bristled with retorts, test-tubes, and little bunsen lamps, with their blue flickering flames. there was anything against him?\"  \"oh, i didn't say there was one little sallow rat-faced, dark-eyed fellow who was introduced to me as mr. lestrade, is here. i had relied upon him to look after this.\"  holmes glanced at me and raised his hand in a salute, and was gone.      chapter iii the lauriston gardens wore an ill-omened and minatory look. it was one of four which stood back some little way from the street, looking all these neat little paradoxes in the seclusion of his own study. it is not practically--\"  \"why, man, it is the most practical medico-legal discovery of mine?\"  \"it is interesting, chemically, no doubt,\" i answered, \"but practically--\"  \"why, man, it is the most practical. i should prefer having a partner to being alone.\"  young stamford, who had been a grievous one. on his rigid face there stood an expression that he was going in for?\" i asked, with a great train of wounded sufferers, to the base hospital after leaving the holborn, stamford gave me a few more particulars about the gentleman whom i proposed this arrangement, so you must not think i am sulky when i do that. just let me alone, and i'll soon be right. what have you to confess now? it's just as well for two fellows to know the worst of one another, too. they are all people who are in trouble about something was a pre-arranged episode, intended to dazzle me, thoug\n"
     ]
    }
   ],
   "source": [
    "ind = int(np.random.random()*(len(data)-order))\n",
    "initial_state = 'afghanistan'\n",
    "#data[ind:ind+order]\n",
    "ctx = initial_state\n",
    "\n",
    "sentence = '' + ctx\n",
    "\n",
    "for ix in range(2000):\n",
    "    nxt = generate_next(ctx, diversity=1)\n",
    "    sentence += nxt\n",
    "    ctx = sentence[-order:]\n",
    "\n",
    "print sentence"
   ]
  },
  {
   "cell_type": "code",
   "execution_count": null,
   "metadata": {},
   "outputs": [],
   "source": []
  },
  {
   "cell_type": "code",
   "execution_count": null,
   "metadata": {},
   "outputs": [],
   "source": []
  },
  {
   "cell_type": "code",
   "execution_count": null,
   "metadata": {},
   "outputs": [],
   "source": []
  }
 ],
 "metadata": {
  "kernelspec": {
   "display_name": "Python 2",
   "language": "python",
   "name": "python2"
  },
  "language_info": {
   "codemirror_mode": {
    "name": "ipython",
    "version": 2
   },
   "file_extension": ".py",
   "mimetype": "text/x-python",
   "name": "python",
   "nbconvert_exporter": "python",
   "pygments_lexer": "ipython2",
   "version": "2.7.15rc1"
  }
 },
 "nbformat": 4,
 "nbformat_minor": 2
}
